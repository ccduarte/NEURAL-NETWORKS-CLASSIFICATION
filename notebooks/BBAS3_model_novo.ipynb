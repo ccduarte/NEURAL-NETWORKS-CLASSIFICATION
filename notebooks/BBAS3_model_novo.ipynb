{
 "cells": [
  {
   "cell_type": "markdown",
   "metadata": {},
   "source": [
    "# Projeto Integrado Final - Deep Learning\n",
    "\n",
    "Desenvolvimento de modelo classificação utilizando Redes Neurais Convolucionais (CNN) ou Redes Neurais Recorrentes (RNN), com base na tendencia de mercado dos ultimos 15 dias, considerando o \"close\" da ação em base de dados suavizada. "
   ]
  },
  {
   "cell_type": "markdown",
   "metadata": {},
   "source": [
    "!pip install pandas\n",
    "!pip install matplotlib\n",
    "!pip install seaborn\n",
    "!pip install scikit-learn\n",
    "!pip install tensorflow\n",
    "!pip install distutils"
   ]
  },
  {
   "cell_type": "code",
   "execution_count": 5,
   "metadata": {},
   "outputs": [],
   "source": [
    "import pandas as pd\n",
    "import numpy as np\n",
    "import matplotlib.pyplot as plt\n",
    "import seaborn as sns\n",
    "from sklearn.preprocessing import StandardScaler\n",
    "from sklearn.metrics import classification_report, confusion_matrix, accuracy_score\n",
    "from tensorflow.keras.models import Sequential\n",
    "from tensorflow.keras.layers import Dense, Conv1D, LSTM, Dropout, MaxPooling1D, Flatten\n",
    "from tensorflow.keras.utils import to_categorical, plot_model\n",
    "from keras.callbacks import ModelCheckpoint\n",
    "from collections import defaultdict"
   ]
  },
  {
   "cell_type": "code",
   "execution_count": 6,
   "metadata": {},
   "outputs": [],
   "source": [
    "df_train = pd.read_csv('../src/data/BBAS3.SA/treino.csv')\n",
    "df_test = pd.read_csv('../src/data/BBAS3.SA/teste.csv')"
   ]
  },
  {
   "cell_type": "markdown",
   "metadata": {},
   "source": [
    "## Exploratory Data Analysis"
   ]
  },
  {
   "cell_type": "code",
   "execution_count": null,
   "metadata": {},
   "outputs": [],
   "source": [
    "df_train.head(2)"
   ]
  },
  {
   "cell_type": "code",
   "execution_count": null,
   "metadata": {},
   "outputs": [],
   "source": [
    "df_test.head(2)"
   ]
  },
  {
   "cell_type": "code",
   "execution_count": null,
   "metadata": {},
   "outputs": [],
   "source": [
    "nome_arquivo = 'BBAS3'\n",
    "# EDA\n",
    "print(f\"EDA para {nome_arquivo}:\")\n",
    "print(f\"Descrição dos dados:\\n{df_train.describe()}\\n\")\n",
    "print(f\"Contagem de valores NaN por coluna:\\n{df_train.isna().sum()}\\n\")\n",
    "print(f\"Contagem dos rótulos:\\n{df_train['Label'].value_counts()}\\n\")\n"
   ]
  },
  {
   "cell_type": "code",
   "execution_count": null,
   "metadata": {},
   "outputs": [],
   "source": [
    "# COMPARAÇÃO ENTRE PREÇOS DE FECHAMENTO E PREÇOS DE FECHAMENTO SUAVIZADOS\n",
    "plt.figure(figsize=(14, 7))\n",
    "plt.plot(df_train['Close'], label='Close')\n",
    "plt.plot(df_train['Smoothed_Close'], label='Smoothed Close')\n",
    "plt.title(f'Preços de Fechamento e Suavizados - {nome_arquivo}')\n",
    "plt.legend()\n",
    "plt.show()"
   ]
  },
  {
   "cell_type": "code",
   "execution_count": null,
   "metadata": {},
   "outputs": [],
   "source": [
    "# DISTRIBUIÇÃO DOS RÓTULOS\n",
    "sns.countplot(x='Label', data=df_train)\n",
    "plt.title(f'Distribuição de Classes - {nome_arquivo}')\n",
    "plt.show()"
   ]
  },
  {
   "cell_type": "markdown",
   "metadata": {},
   "source": [
    "## Treinamento de modelo de Redes Neurais Recorrentes (RNN)"
   ]
  },
  {
   "cell_type": "code",
   "execution_count": null,
   "metadata": {},
   "outputs": [],
   "source": [
    "## NORMALIZAÇÃO DOS DADOS\n",
    "\n",
    "# Normalizador para as features\n",
    "scaler = StandardScaler()\n",
    "\n",
    "# Função para converter rótulos em formato categórico\n",
    "def converter_para_categorico(y):\n",
    "    if y.min() == -1:  # Se os rótulos forem -1 e 1\n",
    "        y = (y + 1) // 2  # Converter rótulos para 0 e 1\n",
    "    return to_categorical(y)\n",
    "\n",
    "X_train = df_train.drop(['Date', 'Close', 'Smoothed_Close', 'Label'], axis=1)\n",
    "y_train = df_train['Label']\n",
    "\n",
    "X_test = df_test.drop(['Date', 'Close', 'Smoothed_Close', 'Label'], axis=1)\n",
    "y_test = df_test['Label']\n",
    "\n",
    "# Normalizar as features\n",
    "X_train = scaler.fit_transform(X_train)\n",
    "X_test = scaler.transform(X_test)\n",
    "\n",
    "# reshape da entrada para ser [amostras, time steps, caracteristicas]\n",
    "X_train = np.reshape(X_train, (X_train.shape[0], X_train.shape[1], 1))\n",
    "X_test = np.reshape(X_test, (X_test.shape[0], X_test.shape[1], 1))\n",
    "\n",
    "# Converter os rótulos para formato categórico\n",
    "y_train_cat = converter_para_categorico(y_train)\n",
    "y_test_cat = converter_para_categorico(y_test)"
   ]
  },
  {
   "cell_type": "code",
   "execution_count": null,
   "metadata": {},
   "outputs": [],
   "source": [
    "# Cria e treina a rede LSTM\n",
    "historicos = {}\n",
    "\n",
    "model_rnn = Sequential([\n",
    "        LSTM(150, return_sequences=True, input_shape=(X_train.shape[1], 1)),\n",
    "        Dropout(0.2),\n",
    "        LSTM(50, return_sequences=False, activation='relu'),\n",
    "        Dense(y_train_cat.shape[1], activation='sigmoid')\n",
    "    ])\n",
    "\n",
    "# Compilando o modelo com entropia cruzada categórica para classificação binária\n",
    "# A acurácia é usada como métrica para avaliação\n",
    "model_rnn.compile(loss='binary_crossentropy', metrics=['accuracy'])\n",
    "\n",
    "# Treinando o modelo com os dados\n",
    "# Epochs define o número de vezes que o modelo verá todo o conjunto de dados\n",
    "# Batch size é o número de amostras que o modelo vê antes de atualizar os pesos\n",
    "# Verbose=1 mostra a barra de progresso do treinamento\n",
    "\n",
    "checkpointer = ModelCheckpoint(filepath='../models/melhor_rnn_BBAS3.keras', verbose=1,  save_best_only=True, monitor='val_accuracy')\n",
    "\n",
    "historico_rnn = model_rnn.fit(X_train, y_train_cat, epochs=100, batch_size=8, validation_split=0.2, verbose=1, callbacks=[checkpointer],shuffle=True)\n"
   ]
  },
  {
   "cell_type": "code",
   "execution_count": null,
   "metadata": {},
   "outputs": [],
   "source": [
    "def plotar_historico(historico, titulo):\n",
    "    plt.figure(figsize=(12, 5))\n",
    "    plt.plot(historico.history['accuracy'], label='Acurácia de Treino')\n",
    "    if 'val_accuracy' in historico.history:\n",
    "        plt.plot(historico.history['val_accuracy'], label='Acurácia de Validação')\n",
    "    plt.plot(historico.history['loss'], label='LOSS de Treino')\n",
    "    if 'val_loss' in historico.history:\n",
    "        plt.plot(historico.history['val_loss'], label='LOSS de Validação')\n",
    "    plt.title(titulo)\n",
    "    plt.xlabel('Épocas')\n",
    "    plt.ylabel('Acurácia / Perda')\n",
    "    plt.legend()\n",
    "    plt.show()\n",
    "\n",
    "plotar_historico(historico_rnn, f\"Histórico de Treinamento - {nome_arquivo}\")"
   ]
  },
  {
   "cell_type": "code",
   "execution_count": null,
   "metadata": {},
   "outputs": [],
   "source": [
    "plot_model(model_rnn,show_shapes=True, show_layer_names=True)"
   ]
  },
  {
   "cell_type": "code",
   "execution_count": null,
   "metadata": {},
   "outputs": [],
   "source": [
    "# Função para plotar a matriz de confusão\n",
    "def plotar_matriz_confusao(cm, classes, title):\n",
    "    plt.figure(figsize=(6, 6))\n",
    "    sns.heatmap(cm, annot=True, fmt='d', cmap='Blues', cbar=False, xticklabels=classes, yticklabels=classes)\n",
    "    plt.xlabel('Predicted Label')\n",
    "    plt.ylabel('True Label')\n",
    "    plt.title(title)\n",
    "\n",
    "# Avaliar o modelo\n",
    "scores = model_rnn.evaluate(X_test, y_test_cat, verbose=0)\n",
    "print(f\"{nome_arquivo} -> Acurácia: {scores[1]*100:.2f}%\")\n",
    "\n",
    "# Predições\n",
    "y_pred = model_rnn.predict(X_test)\n",
    "y_pred_classes = np.argmax(y_pred, axis=1)\n",
    "y_teste_classes = np.argmax(y_test_cat, axis=1)\n",
    "\n",
    "# Gerar e plotar a matriz de confusão\n",
    "cm = confusion_matrix(y_teste_classes, y_pred_classes)\n",
    "plotar_matriz_confusao(cm, classes=['Classe 0', 'Classe 1'], title=f'Matriz de Confusão para {nome_arquivo}')\n",
    "\n",
    "# Gerar relatório de classificação\n",
    "print(f\"Relatório de Classificação para {nome_arquivo}:\\n {classification_report(y_teste_classes, y_pred_classes)}\\n\")"
   ]
  },
  {
   "cell_type": "markdown",
   "metadata": {},
   "source": [
    "## Treinamento de Redes Neurais Convolucionais (CNN)"
   ]
  },
  {
   "cell_type": "code",
   "execution_count": 14,
   "metadata": {},
   "outputs": [],
   "source": [
    "from tensorflow import keras\n",
    "from keras.models import Sequential,load_model\n",
    "from keras.layers import Conv2D, MaxPooling2D, Flatten, Dense, Dropout, AveragePooling2D\n",
    "from keras.utils import plot_model\n",
    "from keras.utils import  to_categorical\n",
    "from keras.callbacks import ModelCheckpoint\n",
    "from keras.layers import Input\n",
    "from tensorflow.keras.utils import to_categorical\n",
    "import os\n",
    "from PIL import Image"
   ]
  },
  {
   "cell_type": "code",
   "execution_count": 8,
   "metadata": {},
   "outputs": [],
   "source": [
    "url_train_img_c = '../src/data/BBAS3.SA/imagens/treino/comprar'\n",
    "url_train_img_v = '../src/data/BBAS3.SA/imagens/treino/vender'\n",
    "url_test_img_c = '../src/data/BBAS3.SA/imagens/teste/comprar'\n",
    "url_test_img_v = '../src/data/BBAS3.SA/imagens/teste/vender'"
   ]
  },
  {
   "cell_type": "code",
   "execution_count": 9,
   "metadata": {},
   "outputs": [],
   "source": [
    "#Leitura imagens base de treino para compra\n",
    "img_compra_tr = []\n",
    "for arq in os.listdir(url_train_img_c):\n",
    "    if arq.endswith('.png'):\n",
    "        url_arq = os.path.join(url_train_img_c, arq)\n",
    "        imagem = Image.open(url_arq)\n",
    "        img_compra_tr.append(imagem)\n",
    "\n",
    "\n",
    "#Leitura imagens base de teste para compra\n",
    "img_compra_te = []\n",
    "for arq in os.listdir(url_test_img_c):\n",
    "    if arq.endswith('.png'):\n",
    "        url_arq = os.path.join(url_test_img_c, arq)\n",
    "        imagem = Image.open(url_arq)\n",
    "        img_compra_te.append(imagem)\n",
    "\n",
    "\n",
    "#Leitura imagens base de treino para venda\n",
    "img_venda_tr = []\n",
    "for arq in os.listdir(url_train_img_v):\n",
    "    if arq.endswith('.png'):\n",
    "        url_arq = os.path.join(url_train_img_v, arq)\n",
    "        imagem = Image.open(url_arq)\n",
    "        img_venda_tr.append(imagem)\n",
    "\n",
    "\n",
    "#Leitura imagens base de teste para venda\n",
    "img_venda_te = []\n",
    "for arq in os.listdir(url_test_img_v):\n",
    "    if arq.endswith('.png'):\n",
    "        url_arq = os.path.join(url_test_img_v, arq)\n",
    "        imagem = Image.open(url_arq)\n",
    "        img_venda_te.append(imagem)"
   ]
  },
  {
   "cell_type": "code",
   "execution_count": 25,
   "metadata": {},
   "outputs": [],
   "source": [
    "# Rotulando imagens 1 - compra e 0 venda\n",
    "y_compra_tr = np.ones(len(img_compra_tr))\n",
    "y_venda_tr = np.zeros(len(img_venda_tr))\n",
    "y_compra_te = np.ones(len(img_compra_te))\n",
    "y_venda_te = np.zeros(len(img_venda_te))\n",
    "\n",
    "# Concatenar as imagens e rótulos\n",
    "X_tr = np.concatenate((img_compra_tr, img_venda_tr), axis=0)\n",
    "Y_tr = np.concatenate((y_compra_tr, y_venda_tr), axis=0)\n",
    "X_te = np.concatenate((img_compra_te, img_venda_te), axis=0)\n",
    "Y_te = np.concatenate((y_compra_te, y_venda_te), axis=0)\n",
    "\n",
    "# Normaliza as entradas de 0-255 para 0-1\n",
    "X_tr = X_tr/255\n",
    "X_te = X_te/255\n",
    "\n",
    "# Embaralhar os dados \n",
    "ind_tr = np.random.permutation(len(X_tr))\n",
    "ind_te = np.random.permutation(len(X_te))\n",
    "X_tr_ind, Y_tr_ind = X_tr[ind_tr], Y_tr[ind_tr]\n",
    "X_te_ind, Y_te_ind = X_te[ind_te], Y_te[ind_te]\n",
    "\n",
    "#Categorização conforme o número de classes\n",
    "#Y_tr_ind = to_categorical(Y_tr_ind, 2)\n",
    "#Y_te_ind = to_categorical(Y_te_ind, 2\n",
    "\n",
    "# Redimensionar os dados de treinamento\n",
    "X_tr_ind = X_tr_ind.reshape(-1, 100, 333, 1)\n",
    "# Redimensionar os dados de teste\n",
    "X_te_ind = X_te_ind.reshape(-1, 100, 333, 1)"
   ]
  },
  {
   "cell_type": "code",
   "execution_count": 26,
   "metadata": {},
   "outputs": [],
   "source": [
    "#Camada de entrada\n",
    "input_shape=(100, 333,1)\n",
    "inputs = Input(shape=input_shape)\n",
    "\n",
    "#Arquitetura da rede\n",
    "model = Sequential()\n",
    "model.add(Conv2D(filters=32, kernel_size=(3,3),  activation='relu'))\n",
    "model.add(Conv2D(filters=64, kernel_size=(3,3),  activation='relu'))\n",
    "\n",
    "model.add(MaxPooling2D(pool_size=(2,2)))\n",
    "model.add(Dropout(0.25))\n",
    "model.add(Flatten())\n",
    "\n",
    "model.add(Dense(128, activation='relu'))\n",
    "model.add(Dropout(0.5))\n",
    "model.add(Dense(1, activation='sigmoid'))"
   ]
  },
  {
   "cell_type": "code",
   "execution_count": 27,
   "metadata": {},
   "outputs": [],
   "source": [
    "model.compile(optimizer='adam', loss='binary_crossentropy', metrics=['accuracy'])"
   ]
  },
  {
   "cell_type": "code",
   "execution_count": 28,
   "metadata": {},
   "outputs": [
    {
     "name": "stdout",
     "output_type": "stream",
     "text": [
      "Epoch 1/10\n",
      "\u001b[1m48/48\u001b[0m \u001b[32m━━━━━━━━━━━━━━━━━━━━\u001b[0m\u001b[37m\u001b[0m \u001b[1m0s\u001b[0m 2s/step - accuracy: 0.7009 - loss: 3.1633\n",
      "Epoch 1: val_accuracy improved from -inf to 0.88111, saving model to ../models/melhor_cnn_BBAS3.keras\n",
      "\u001b[1m48/48\u001b[0m \u001b[32m━━━━━━━━━━━━━━━━━━━━\u001b[0m\u001b[37m\u001b[0m \u001b[1m117s\u001b[0m 2s/step - accuracy: 0.7032 - loss: 3.1257 - val_accuracy: 0.8811 - val_loss: 0.2692\n",
      "Epoch 2/10\n",
      "\u001b[1m48/48\u001b[0m \u001b[32m━━━━━━━━━━━━━━━━━━━━\u001b[0m\u001b[37m\u001b[0m \u001b[1m0s\u001b[0m 2s/step - accuracy: 0.8917 - loss: 0.2664\n",
      "Epoch 2: val_accuracy improved from 0.88111 to 0.89207, saving model to ../models/melhor_cnn_BBAS3.keras\n",
      "\u001b[1m48/48\u001b[0m \u001b[32m━━━━━━━━━━━━━━━━━━━━\u001b[0m\u001b[37m\u001b[0m \u001b[1m111s\u001b[0m 2s/step - accuracy: 0.8915 - loss: 0.2665 - val_accuracy: 0.8921 - val_loss: 0.2617\n",
      "Epoch 3/10\n",
      "\u001b[1m48/48\u001b[0m \u001b[32m━━━━━━━━━━━━━━━━━━━━\u001b[0m\u001b[37m\u001b[0m \u001b[1m0s\u001b[0m 2s/step - accuracy: 0.8984 - loss: 0.2338\n",
      "Epoch 3: val_accuracy did not improve from 0.89207\n",
      "\u001b[1m48/48\u001b[0m \u001b[32m━━━━━━━━━━━━━━━━━━━━\u001b[0m\u001b[37m\u001b[0m \u001b[1m99s\u001b[0m 2s/step - accuracy: 0.8983 - loss: 0.2339 - val_accuracy: 0.8862 - val_loss: 0.2504\n",
      "Epoch 4/10\n",
      "\u001b[1m48/48\u001b[0m \u001b[32m━━━━━━━━━━━━━━━━━━━━\u001b[0m\u001b[37m\u001b[0m \u001b[1m0s\u001b[0m 2s/step - accuracy: 0.8995 - loss: 0.2219\n",
      "Epoch 4: val_accuracy did not improve from 0.89207\n",
      "\u001b[1m48/48\u001b[0m \u001b[32m━━━━━━━━━━━━━━━━━━━━\u001b[0m\u001b[37m\u001b[0m \u001b[1m108s\u001b[0m 2s/step - accuracy: 0.8995 - loss: 0.2220 - val_accuracy: 0.8828 - val_loss: 0.2519\n",
      "Epoch 5/10\n",
      "\u001b[1m48/48\u001b[0m \u001b[32m━━━━━━━━━━━━━━━━━━━━\u001b[0m\u001b[37m\u001b[0m \u001b[1m0s\u001b[0m 2s/step - accuracy: 0.9050 - loss: 0.2186\n",
      "Epoch 5: val_accuracy did not improve from 0.89207\n",
      "\u001b[1m48/48\u001b[0m \u001b[32m━━━━━━━━━━━━━━━━━━━━\u001b[0m\u001b[37m\u001b[0m \u001b[1m99s\u001b[0m 2s/step - accuracy: 0.9051 - loss: 0.2185 - val_accuracy: 0.8879 - val_loss: 0.2632\n",
      "Epoch 6/10\n",
      "\u001b[1m48/48\u001b[0m \u001b[32m━━━━━━━━━━━━━━━━━━━━\u001b[0m\u001b[37m\u001b[0m \u001b[1m0s\u001b[0m 2s/step - accuracy: 0.9066 - loss: 0.2106\n",
      "Epoch 6: val_accuracy did not improve from 0.89207\n",
      "\u001b[1m48/48\u001b[0m \u001b[32m━━━━━━━━━━━━━━━━━━━━\u001b[0m\u001b[37m\u001b[0m \u001b[1m96s\u001b[0m 2s/step - accuracy: 0.9066 - loss: 0.2105 - val_accuracy: 0.8777 - val_loss: 0.2820\n",
      "Epoch 7/10\n",
      "\u001b[1m48/48\u001b[0m \u001b[32m━━━━━━━━━━━━━━━━━━━━\u001b[0m\u001b[37m\u001b[0m \u001b[1m0s\u001b[0m 2s/step - accuracy: 0.9225 - loss: 0.1861\n",
      "Epoch 7: val_accuracy did not improve from 0.89207\n",
      "\u001b[1m48/48\u001b[0m \u001b[32m━━━━━━━━━━━━━━━━━━━━\u001b[0m\u001b[37m\u001b[0m \u001b[1m96s\u001b[0m 2s/step - accuracy: 0.9224 - loss: 0.1863 - val_accuracy: 0.8904 - val_loss: 0.2640\n",
      "Epoch 8/10\n",
      "\u001b[1m48/48\u001b[0m \u001b[32m━━━━━━━━━━━━━━━━━━━━\u001b[0m\u001b[37m\u001b[0m \u001b[1m0s\u001b[0m 2s/step - accuracy: 0.9307 - loss: 0.1704\n",
      "Epoch 8: val_accuracy did not improve from 0.89207\n",
      "\u001b[1m48/48\u001b[0m \u001b[32m━━━━━━━━━━━━━━━━━━━━\u001b[0m\u001b[37m\u001b[0m \u001b[1m96s\u001b[0m 2s/step - accuracy: 0.9307 - loss: 0.1705 - val_accuracy: 0.8752 - val_loss: 0.2847\n",
      "Epoch 9/10\n",
      "\u001b[1m48/48\u001b[0m \u001b[32m━━━━━━━━━━━━━━━━━━━━\u001b[0m\u001b[37m\u001b[0m \u001b[1m0s\u001b[0m 2s/step - accuracy: 0.9378 - loss: 0.1468\n",
      "Epoch 9: val_accuracy did not improve from 0.89207\n",
      "\u001b[1m48/48\u001b[0m \u001b[32m━━━━━━━━━━━━━━━━━━━━\u001b[0m\u001b[37m\u001b[0m \u001b[1m100s\u001b[0m 2s/step - accuracy: 0.9377 - loss: 0.1469 - val_accuracy: 0.8820 - val_loss: 0.2893\n",
      "Epoch 10/10\n",
      "\u001b[1m48/48\u001b[0m \u001b[32m━━━━━━━━━━━━━━━━━━━━\u001b[0m\u001b[37m\u001b[0m \u001b[1m0s\u001b[0m 2s/step - accuracy: 0.9556 - loss: 0.1243\n",
      "Epoch 10: val_accuracy did not improve from 0.89207\n",
      "\u001b[1m48/48\u001b[0m \u001b[32m━━━━━━━━━━━━━━━━━━━━\u001b[0m\u001b[37m\u001b[0m \u001b[1m109s\u001b[0m 2s/step - accuracy: 0.9555 - loss: 0.1245 - val_accuracy: 0.8836 - val_loss: 0.3029\n"
     ]
    }
   ],
   "source": [
    "checkpointer = ModelCheckpoint(filepath='../models/melhor_cnn_BBAS3.keras', verbose=1,  save_best_only=True, monitor='val_accuracy')\n",
    "\n",
    "hist = model.fit(X_tr_ind, Y_tr_ind, batch_size=100, epochs=10, validation_data=(X_te_ind, Y_te_ind), callbacks=[checkpointer], verbose=1, shuffle=True)"
   ]
  },
  {
   "cell_type": "code",
   "execution_count": 29,
   "metadata": {},
   "outputs": [
    {
     "data": {
      "image/png": "[encoded data removed]",
      "text/plain": [
       "<Figure size 640x480 with 1 Axes>"
      ]
     },
     "metadata": {},
     "output_type": "display_data"
    }
   ],
   "source": [
    "plt.figure(1)\n",
    "plt.plot(hist.history['accuracy'])\n",
    "plt.plot(hist.history['val_accuracy'])\n",
    "plt.title('model accuracy')\n",
    "plt.ylabel('accuracy')\n",
    "plt.xlabel('epoch')\n",
    "plt.legend(['train', 'validation'], loc='upper left')\n",
    "plt.show()"
   ]
  }
 ],
 "metadata": {
  "kernelspec": {
   "display_name": "Python 3 (ipykernel)",
   "language": "python",
   "name": "python3"
  },
  "language_info": {
   "codemirror_mode": {
    "name": "ipython",
    "version": 3
   },
   "file_extension": ".py",
   "mimetype": "text/x-python",
   "name": "python",
   "nbconvert_exporter": "python",
   "pygments_lexer": "ipython3",
   "version": "3.12.3"
  }
 },
 "nbformat": 4,
 "nbformat_minor": 4
}
